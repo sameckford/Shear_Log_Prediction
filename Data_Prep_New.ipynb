{
 "cells": [
  {
   "cell_type": "code",
   "execution_count": 1,
   "metadata": {},
   "outputs": [],
   "source": [
    "import os, glob\n",
    "import pandas as pd\n",
    "import numpy as np\n",
    "import seaborn as sns\n",
    "import matplotlib.pyplot as plt\n",
    "import time\n",
    "import random\n",
    "import datetime as dt\n",
    "import copy"
   ]
  },
  {
   "cell_type": "code",
   "execution_count": 129,
   "metadata": {},
   "outputs": [
    {
     "name": "stderr",
     "output_type": "stream",
     "text": [
      "/opt/anaconda3/lib/python3.7/site-packages/numpy/lib/arraysetops.py:569: FutureWarning: elementwise comparison failed; returning scalar instead, but in the future will perform elementwise comparison\n",
      "  mask |= (ar1 == a)\n"
     ]
    }
   ],
   "source": [
    "shear_filter = pd.read_csv('/Users/samueleckford/Scripts/Shear Prediction/Quads/shear_master_df_Quad 21_2020_06_29.csv', index_col=0)"
   ]
  },
  {
   "cell_type": "code",
   "execution_count": 130,
   "metadata": {},
   "outputs": [
    {
     "data": {
      "text/html": [
       "<div>\n",
       "<style scoped>\n",
       "    .dataframe tbody tr th:only-of-type {\n",
       "        vertical-align: middle;\n",
       "    }\n",
       "\n",
       "    .dataframe tbody tr th {\n",
       "        vertical-align: top;\n",
       "    }\n",
       "\n",
       "    .dataframe thead th {\n",
       "        text-align: right;\n",
       "    }\n",
       "</style>\n",
       "<table border=\"1\" class=\"dataframe\">\n",
       "  <thead>\n",
       "    <tr style=\"text-align: right;\">\n",
       "      <th></th>\n",
       "      <th>DT</th>\n",
       "      <th>GR</th>\n",
       "      <th>RHOB</th>\n",
       "      <th>SP</th>\n",
       "      <th>Wellname</th>\n",
       "      <th>Depth</th>\n",
       "      <th>SPWS</th>\n",
       "      <th>GRWS</th>\n",
       "      <th>NPOWS</th>\n",
       "      <th>CALWS</th>\n",
       "      <th>...</th>\n",
       "      <th>PEFWS</th>\n",
       "      <th>CALI</th>\n",
       "      <th>DTSWS</th>\n",
       "      <th>CAL</th>\n",
       "      <th>DEN</th>\n",
       "      <th>MRES</th>\n",
       "      <th>DTS</th>\n",
       "      <th>DRES</th>\n",
       "      <th>NPO</th>\n",
       "      <th>SRES</th>\n",
       "    </tr>\n",
       "  </thead>\n",
       "  <tbody>\n",
       "    <tr>\n",
       "      <th>0</th>\n",
       "      <td>120.9238</td>\n",
       "      <td>37.3865</td>\n",
       "      <td>2.4670</td>\n",
       "      <td>88.0527</td>\n",
       "      <td>10-1-1</td>\n",
       "      <td>1877.816</td>\n",
       "      <td>NaN</td>\n",
       "      <td>NaN</td>\n",
       "      <td>NaN</td>\n",
       "      <td>NaN</td>\n",
       "      <td>...</td>\n",
       "      <td>NaN</td>\n",
       "      <td>NaN</td>\n",
       "      <td>NaN</td>\n",
       "      <td>NaN</td>\n",
       "      <td>NaN</td>\n",
       "      <td>NaN</td>\n",
       "      <td>NaN</td>\n",
       "      <td>NaN</td>\n",
       "      <td>NaN</td>\n",
       "      <td>NaN</td>\n",
       "    </tr>\n",
       "    <tr>\n",
       "      <th>1</th>\n",
       "      <td>123.2250</td>\n",
       "      <td>36.9812</td>\n",
       "      <td>2.4605</td>\n",
       "      <td>87.4510</td>\n",
       "      <td>10-1-1</td>\n",
       "      <td>1877.968</td>\n",
       "      <td>NaN</td>\n",
       "      <td>NaN</td>\n",
       "      <td>NaN</td>\n",
       "      <td>NaN</td>\n",
       "      <td>...</td>\n",
       "      <td>NaN</td>\n",
       "      <td>NaN</td>\n",
       "      <td>NaN</td>\n",
       "      <td>NaN</td>\n",
       "      <td>NaN</td>\n",
       "      <td>NaN</td>\n",
       "      <td>NaN</td>\n",
       "      <td>NaN</td>\n",
       "      <td>NaN</td>\n",
       "      <td>NaN</td>\n",
       "    </tr>\n",
       "  </tbody>\n",
       "</table>\n",
       "<p>2 rows × 27 columns</p>\n",
       "</div>"
      ],
      "text/plain": [
       "         DT       GR    RHOB       SP Wellname     Depth  SPWS  GRWS  NPOWS  \\\n",
       "0  120.9238  37.3865  2.4670  88.0527   10-1-1  1877.816   NaN   NaN    NaN   \n",
       "1  123.2250  36.9812  2.4605  87.4510   10-1-1  1877.968   NaN   NaN    NaN   \n",
       "\n",
       "   CALWS  ...  PEFWS  CALI  DTSWS  CAL  DEN  MRES  DTS  DRES  NPO  SRES  \n",
       "0    NaN  ...    NaN   NaN    NaN  NaN  NaN   NaN  NaN   NaN  NaN   NaN  \n",
       "1    NaN  ...    NaN   NaN    NaN  NaN  NaN   NaN  NaN   NaN  NaN   NaN  \n",
       "\n",
       "[2 rows x 27 columns]"
      ]
     },
     "execution_count": 130,
     "metadata": {},
     "output_type": "execute_result"
    }
   ],
   "source": [
    "shear_filter.head(2)"
   ]
  },
  {
   "cell_type": "code",
   "execution_count": 131,
   "metadata": {},
   "outputs": [],
   "source": [
    "log_dict = {}\n",
    "# Lists with different log name abbreviations, can be edited as needed\n",
    "log_dict['GR_list'] = ['GRWS', 'gr', 'GR']\n",
    "log_dict['DT_list'] = ['DTWS', 'dt', 'dtws', 'DT']\n",
    "log_dict['DTS_list'] = ['DTSWS', 'DTS', 'dts', 'dtsws']\n",
    "log_dict['DRes_list'] = ['DRESWS', 'DRES']\n",
    "log_dict['Mres_list'] = ['MRESWS', 'MRES']\n",
    "log_dict['Sres_list'] = ['SRESWS', 'SRES']\n",
    "log_dict['Rhob_list'] = ['DENWS', 'RHOB', 'RHOBWS', 'RHO', 'RHOWS', 'DEN']\n",
    "log_dict['Npo_list'] = ['NPOWS', 'NPO']\n",
    "log_dict['Cal_list'] = ['CALWS', 'CAL', 'CALI']\n",
    "log_dict['PEF_list'] = ['PEFWS', 'PEF']\n",
    "log_dict['SP_list'] = ['SPWS', 'SP']"
   ]
  },
  {
   "cell_type": "code",
   "execution_count": 132,
   "metadata": {},
   "outputs": [],
   "source": [
    "def column_list_merge(df, log_dictionary):\n",
    "    for i in log_dictionary:\n",
    "        original_count = df[log_dictionary[i][0]].count()\n",
    "        for j in log_dictionary[i][1:]:\n",
    "            try:\n",
    "                df[log_dictionary[i][0]].fillna(df[j], inplace=True)\n",
    "                df.drop([j], axis=1, inplace=True)\n",
    "                print(\"Number of values added to \" +log_dictionary[i][0]+ \" column = \" + str(abs(original_count - df[log_dictionary[i][0]].count())))\n",
    "            except:\n",
    "                print(str(j)+' column does not exist')\n",
    "                pass"
   ]
  },
  {
   "cell_type": "code",
   "execution_count": 133,
   "metadata": {},
   "outputs": [
    {
     "name": "stdout",
     "output_type": "stream",
     "text": [
      "gr column does not exist\n",
      "Number of values added to GRWS column = 7396978\n",
      "dt column does not exist\n",
      "dtws column does not exist\n",
      "Number of values added to DTWS column = 9991271\n",
      "Number of values added to DTSWS column = 73644\n",
      "dts column does not exist\n",
      "dtsws column does not exist\n",
      "Number of values added to DRESWS column = 19651\n",
      "Number of values added to MRESWS column = 56868\n",
      "Number of values added to SRESWS column = 7219\n",
      "Number of values added to DENWS column = 3615049\n",
      "RHOBWS column does not exist\n",
      "RHO column does not exist\n",
      "RHOWS column does not exist\n",
      "Number of values added to DENWS column = 3825788\n",
      "Number of values added to NPOWS column = 12412\n",
      "Number of values added to CALWS column = 353430\n",
      "Number of values added to CALWS column = 2889045\n",
      "Number of values added to PEFWS column = 1711981\n",
      "Number of values added to SPWS column = 3881750\n"
     ]
    }
   ],
   "source": [
    "#shear_filter2 = shear_filter.copy()\n",
    "column_list_merge(shear_filter, log_dict)"
   ]
  },
  {
   "cell_type": "code",
   "execution_count": 134,
   "metadata": {},
   "outputs": [
    {
     "data": {
      "text/plain": [
       "Index(['Wellname', 'Depth', 'SP', 'GR', 'NPO', 'CAL', 'DRES', 'COND', 'MRES',\n",
       "       'SRES', 'DT', 'DEN', 'PEF', 'DTS'],\n",
       "      dtype='object')"
      ]
     },
     "execution_count": 134,
     "metadata": {},
     "output_type": "execute_result"
    }
   ],
   "source": [
    "shear_filter.columns = [col.replace('WS', '') for col in shear_filter.columns]\n",
    "shear_filter.columns"
   ]
  },
  {
   "cell_type": "code",
   "execution_count": 135,
   "metadata": {},
   "outputs": [],
   "source": [
    "well = '13-23a-4'\n",
    "shear_filter2 = copy.deepcopy(shear_filter)\n",
    "#shear_filter3 = copy.deepcopy(shear_filter.loc[shear_filter['Wellname']==well])\n",
    "shear_filter2['DTS'].fillna(450, inplace=True)\n",
    "#shear_filter.isna().sum()"
   ]
  },
  {
   "cell_type": "code",
   "execution_count": 136,
   "metadata": {},
   "outputs": [],
   "source": [
    "def rolling_imputer(df, log='DTS', filter_length=100):\n",
    "    \"\"\" Interpolate over smaller distances and filter outside of that.\n",
    "        Default window length is 100 samples and filtered at >90% of filter_length (above 90 by default). \"\"\"\n",
    "    \n",
    "    ### Flag all the null rows then do a rolling sum to highlight areas with large gaps\n",
    "    print(str(round(df[log].isna().sum()/len(df), 3)) + \" \" + log + \" proportion of nulls\")\n",
    "    df['test_flag'] = df[log].isna()\n",
    "    df['test_flag'] = df.groupby('Wellname')['test_flag'].transform(lambda s: s.rolling(filter_length, center=True, min_periods=15).sum())\n",
    "    ### filter the values that are a large way away from real values\n",
    "    df.drop(df[df['test_flag'] >(filter_length*0.9)].index, inplace = True)\n",
    "    #df['test_rolling_mean'] = df[log].rolling(window=25, center=True, win_type='gaussian', min_periods=5).mean(std=1)\n",
    "    ### Fill nulls with rolling mean values\n",
    "    df[log].fillna(df.groupby('Wellname')['test_flag'].transform(lambda s: s.rolling(window=250, center=True, min_periods=5, win_type='gaussian').mean(std=1)))\n",
    "    df.dropna(subset=[log], axis=0, how='any', inplace=True)\n",
    "    ### Drop extra columns\n",
    "    df.drop(['test_flag'], axis=1, inplace=True)\n",
    "    return df"
   ]
  },
  {
   "cell_type": "code",
   "execution_count": 137,
   "metadata": {},
   "outputs": [
    {
     "name": "stdout",
     "output_type": "stream",
     "text": [
      "0.961 DTS proportion of nulls\n",
      "0.025 GR proportion of nulls\n",
      "0.154 NPO proportion of nulls\n",
      "0.009 CAL proportion of nulls\n",
      "0.01 DRES proportion of nulls\n",
      "0.0 COND proportion of nulls\n",
      "0.047 MRES proportion of nulls\n",
      "0.095 SRES proportion of nulls\n",
      "0.001 DT proportion of nulls\n",
      "0.002 DEN proportion of nulls\n",
      "0.028 PEF proportion of nulls\n"
     ]
    },
    {
     "data": {
      "text/plain": [
       "Wellname    0\n",
       "Depth       0\n",
       "GR          0\n",
       "NPO         0\n",
       "CAL         0\n",
       "DRES        0\n",
       "COND        0\n",
       "MRES        0\n",
       "SRES        0\n",
       "DT          0\n",
       "DEN         0\n",
       "PEF         0\n",
       "DTS         0\n",
       "dtype: int64"
      ]
     },
     "execution_count": 137,
     "metadata": {},
     "output_type": "execute_result"
    }
   ],
   "source": [
    "### Initially run just the DTS as this is the target log, then on all others\n",
    "shear_filter = rolling_imputer(shear_filter)\n",
    "for i in shear_filter.columns[3:-1]:\n",
    "    shear_filter = rolling_imputer(shear_filter, log=i)\n",
    "### SP has a large proportion of nulls so is dropped\n",
    "shear_filter.drop(['SP'], axis=1, inplace=True)\n",
    "shear_filter.isna().sum()"
   ]
  },
  {
   "cell_type": "code",
   "execution_count": 138,
   "metadata": {},
   "outputs": [
    {
     "data": {
      "image/png": "[encoded data removed]",
      "text/plain": [
       "<Figure size 1800x864 with 1 Axes>"
      ]
     },
     "metadata": {
      "needs_background": "light"
     },
     "output_type": "display_data"
    }
   ],
   "source": [
    "plt.figure(figsize=(25, 12))\n",
    "well = '13-23a-4'\n",
    "log = 'DTS'\n",
    "#plt.scatter(shear_filter3[shear_filter3[\"Wellname\"] == well][\"Depth\"], shear_filter3[shear_filter3[\"Wellname\"] == well]['test_flag'], s=0.6, color='red', label=log + ' flag ')\n",
    "plt.plot(shear_filter2[shear_filter2[\"Wellname\"] == well][\"Depth\"], shear_filter2[shear_filter2[\"Wellname\"] == well][log], linewidth=0.6, color='red', label=log + ' NaNs')\n",
    "plt.scatter(shear_filter[shear_filter[\"Wellname\"] == well][\"Depth\"], shear_filter[shear_filter[\"Wellname\"] == well][log], linewidth=0.6, color='black', label=log + ' edit ')\n",
    "plt.title('De-nulled well log for well - ' + well)\n",
    "plt.xticks(fontsize = 15)\n",
    "plt.yticks(fontsize = 15)\n",
    "plt.xlabel('Depth', fontsize = 20)\n",
    "plt.ylabel(log, fontsize = 20)\n",
    "plt.xlim(0, 8000)\n",
    "plt.legend()\n",
    "plt.show()"
   ]
  },
  {
   "cell_type": "code",
   "execution_count": 139,
   "metadata": {},
   "outputs": [],
   "source": [
    "shear_filter.to_csv('Quad21_clean.csv')"
   ]
  },
  {
   "cell_type": "code",
   "execution_count": 140,
   "metadata": {},
   "outputs": [
    {
     "data": {
      "text/html": [
       "<div>\n",
       "<style scoped>\n",
       "    .dataframe tbody tr th:only-of-type {\n",
       "        vertical-align: middle;\n",
       "    }\n",
       "\n",
       "    .dataframe tbody tr th {\n",
       "        vertical-align: top;\n",
       "    }\n",
       "\n",
       "    .dataframe thead th {\n",
       "        text-align: right;\n",
       "    }\n",
       "</style>\n",
       "<table border=\"1\" class=\"dataframe\">\n",
       "  <thead>\n",
       "    <tr style=\"text-align: right;\">\n",
       "      <th></th>\n",
       "      <th>Wellname</th>\n",
       "      <th>Depth</th>\n",
       "      <th>GR</th>\n",
       "      <th>NPO</th>\n",
       "      <th>CAL</th>\n",
       "      <th>DRES</th>\n",
       "      <th>COND</th>\n",
       "      <th>MRES</th>\n",
       "      <th>SRES</th>\n",
       "      <th>DT</th>\n",
       "      <th>DEN</th>\n",
       "      <th>PEF</th>\n",
       "      <th>DTS</th>\n",
       "    </tr>\n",
       "  </thead>\n",
       "  <tbody>\n",
       "    <tr>\n",
       "      <th>973542</th>\n",
       "      <td>13-22c-30</td>\n",
       "      <td>8001.5</td>\n",
       "      <td>94.3394</td>\n",
       "      <td>0.2543</td>\n",
       "      <td>11.8982</td>\n",
       "      <td>13.5483</td>\n",
       "      <td>73.8100</td>\n",
       "      <td>27.1916</td>\n",
       "      <td>44.2099</td>\n",
       "      <td>81.6508</td>\n",
       "      <td>2.4825</td>\n",
       "      <td>3.3950</td>\n",
       "      <td>139.1937</td>\n",
       "    </tr>\n",
       "    <tr>\n",
       "      <th>973543</th>\n",
       "      <td>13-22c-30</td>\n",
       "      <td>8002.0</td>\n",
       "      <td>85.8017</td>\n",
       "      <td>0.2122</td>\n",
       "      <td>11.9270</td>\n",
       "      <td>13.1327</td>\n",
       "      <td>76.1458</td>\n",
       "      <td>34.8896</td>\n",
       "      <td>49.4245</td>\n",
       "      <td>85.8908</td>\n",
       "      <td>2.5292</td>\n",
       "      <td>2.9600</td>\n",
       "      <td>139.9702</td>\n",
       "    </tr>\n",
       "    <tr>\n",
       "      <th>973544</th>\n",
       "      <td>13-22c-30</td>\n",
       "      <td>8002.5</td>\n",
       "      <td>86.0553</td>\n",
       "      <td>0.2235</td>\n",
       "      <td>11.9559</td>\n",
       "      <td>13.1327</td>\n",
       "      <td>76.1458</td>\n",
       "      <td>28.7981</td>\n",
       "      <td>45.2303</td>\n",
       "      <td>90.0853</td>\n",
       "      <td>2.5154</td>\n",
       "      <td>2.8303</td>\n",
       "      <td>144.4100</td>\n",
       "    </tr>\n",
       "    <tr>\n",
       "      <th>973545</th>\n",
       "      <td>13-22c-30</td>\n",
       "      <td>8003.0</td>\n",
       "      <td>95.7391</td>\n",
       "      <td>0.2595</td>\n",
       "      <td>11.9707</td>\n",
       "      <td>13.1006</td>\n",
       "      <td>76.3324</td>\n",
       "      <td>23.7700</td>\n",
       "      <td>37.5546</td>\n",
       "      <td>90.8433</td>\n",
       "      <td>2.4427</td>\n",
       "      <td>2.7936</td>\n",
       "      <td>152.0285</td>\n",
       "    </tr>\n",
       "    <tr>\n",
       "      <th>973546</th>\n",
       "      <td>13-22c-30</td>\n",
       "      <td>8003.5</td>\n",
       "      <td>109.9114</td>\n",
       "      <td>0.3293</td>\n",
       "      <td>11.9802</td>\n",
       "      <td>13.7400</td>\n",
       "      <td>72.7802</td>\n",
       "      <td>24.7000</td>\n",
       "      <td>33.3261</td>\n",
       "      <td>89.6943</td>\n",
       "      <td>2.4022</td>\n",
       "      <td>2.7781</td>\n",
       "      <td>156.2891</td>\n",
       "    </tr>\n",
       "  </tbody>\n",
       "</table>\n",
       "</div>"
      ],
      "text/plain": [
       "         Wellname   Depth        GR     NPO      CAL     DRES     COND  \\\n",
       "973542  13-22c-30  8001.5   94.3394  0.2543  11.8982  13.5483  73.8100   \n",
       "973543  13-22c-30  8002.0   85.8017  0.2122  11.9270  13.1327  76.1458   \n",
       "973544  13-22c-30  8002.5   86.0553  0.2235  11.9559  13.1327  76.1458   \n",
       "973545  13-22c-30  8003.0   95.7391  0.2595  11.9707  13.1006  76.3324   \n",
       "973546  13-22c-30  8003.5  109.9114  0.3293  11.9802  13.7400  72.7802   \n",
       "\n",
       "           MRES     SRES       DT     DEN     PEF       DTS  \n",
       "973542  27.1916  44.2099  81.6508  2.4825  3.3950  139.1937  \n",
       "973543  34.8896  49.4245  85.8908  2.5292  2.9600  139.9702  \n",
       "973544  28.7981  45.2303  90.0853  2.5154  2.8303  144.4100  \n",
       "973545  23.7700  37.5546  90.8433  2.4427  2.7936  152.0285  \n",
       "973546  24.7000  33.3261  89.6943  2.4022  2.7781  156.2891  "
      ]
     },
     "execution_count": 140,
     "metadata": {},
     "output_type": "execute_result"
    }
   ],
   "source": [
    "shear_filter.head()"
   ]
  },
  {
   "cell_type": "code",
   "execution_count": 141,
   "metadata": {},
   "outputs": [
    {
     "data": {
      "text/plain": [
       "50"
      ]
     },
     "execution_count": 141,
     "metadata": {},
     "output_type": "execute_result"
    }
   ],
   "source": [
    "well_list = list(shear_filter.Wellname.unique())\n",
    "len(well_list)"
   ]
  },
  {
   "cell_type": "code",
   "execution_count": 151,
   "metadata": {},
   "outputs": [],
   "source": [
    "random.seed(42)\n",
    "test_list = random.sample(well_list, int(len(well_list)*0.3))\n",
    "train_list = [i for i in well_list if i not in test_list]\n",
    "#print(test_list)"
   ]
  },
  {
   "cell_type": "code",
   "execution_count": 143,
   "metadata": {},
   "outputs": [],
   "source": [
    "df_test = shear_filter[shear_filter['Wellname'].isin(test_list)]\n",
    "df_train = shear_filter[~shear_filter['Wellname'].isin(test_list)]"
   ]
  },
  {
   "cell_type": "code",
   "execution_count": 144,
   "metadata": {},
   "outputs": [],
   "source": [
    "folder_create = os.path.exists(\"data\")\n",
    "if folder_create is False:\n",
    "    os.mkdir(\"./data\")\n",
    "    os.mkdir(\"./data/train\")\n",
    "    os.mkdir(\"./data/test\")\n",
    "folder_create = os.path.exists(\"./data/train\")\n",
    "if folder_create is False:\n",
    "    os.mkdir(\"./data/train\")\n",
    "    os.mkdir(\"./data/test\")"
   ]
  },
  {
   "cell_type": "code",
   "execution_count": 145,
   "metadata": {},
   "outputs": [],
   "source": [
    "target_feature = ['DTS']\n",
    "train_feature = ['GR', 'DT', 'DRES', 'MRES', 'SRES', 'NPO', 'DEN', 'Depth', 'COND', 'CAL']"
   ]
  },
  {
   "cell_type": "code",
   "execution_count": 146,
   "metadata": {},
   "outputs": [],
   "source": [
    "X_train = df_train[train_feature].copy()\n",
    "X_test = df_test[train_feature].copy()\n",
    "\n",
    "y_train = df_train[target_feature].copy()\n",
    "y_test = df_test[target_feature].copy()"
   ]
  },
  {
   "cell_type": "code",
   "execution_count": 147,
   "metadata": {},
   "outputs": [],
   "source": [
    "X_train.to_csv(\"./data/train/train_x_\" + str(dt.datetime.today().strftime('%Y-%m-%d')) + \".csv\")\n",
    "y_train.to_csv(\"./data/train/train_y_\" + str(dt.datetime.today().strftime('%Y-%m-%d')) + \".csv\")\n",
    "X_test.to_csv(\"./data/test/test_x_\" + str(dt.datetime.today().strftime('%Y-%m-%d')) + \".csv\")\n",
    "y_test.to_csv(\"./data/test/test_y_\" + str(dt.datetime.today().strftime('%Y-%m-%d')) + \".csv\")"
   ]
  },
  {
   "cell_type": "code",
   "execution_count": null,
   "metadata": {},
   "outputs": [],
   "source": []
  }
 ],
 "metadata": {
  "kernelspec": {
   "display_name": "Python 3",
   "language": "python",
   "name": "python3"
  },
  "language_info": {
   "codemirror_mode": {
    "name": "ipython",
    "version": 3
   },
   "file_extension": ".py",
   "mimetype": "text/x-python",
   "name": "python",
   "nbconvert_exporter": "python",
   "pygments_lexer": "ipython3",
   "version": "3.7.6"
  }
 },
 "nbformat": 4,
 "nbformat_minor": 4
}
